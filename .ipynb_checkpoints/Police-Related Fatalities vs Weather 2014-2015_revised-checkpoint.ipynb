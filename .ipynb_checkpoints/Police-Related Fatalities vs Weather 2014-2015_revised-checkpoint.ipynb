{
 "cells": [
  {
   "cell_type": "markdown",
   "metadata": {},
   "source": [
    "# Netid: ja743, mce58"
   ]
  },
  {
   "cell_type": "markdown",
   "metadata": {},
   "source": [
    "# Problem: \n",
    "## In the one year time period from July 01, 2014 to June 30, 2015, the temperatures in Houston, Texas and Jacksonville, Florida peaked some of its highest values. Additionally, after doing some online research, we've observed some consistent data that reveals the police-related fatality rates for these two states to be considerably higher than than the rest of the United States. With this information, we've decided to seek a correlation between the monthly deaths by police in these specific states and the average high temperatures for that month of popular cities belonging to these states. "
   ]
  },
  {
   "cell_type": "markdown",
   "metadata": {},
   "source": [
    "# Hypothesis 1: \n",
    "### We hypothesize that the city with the larger average highest temperature for the month will also have the higher police-related fatalities in the given month.\n",
    "\n",
    "# Methodology:\n",
    "\n",
    "## 1) Import: csv files \n",
    "\n",
    "## 2) Clean Weather csv's:\n",
    "### - We must drop all columns excpet for 'date', 'actual_mean_temp', 'actual_min_temp', 'actual_max_temp' and ### - Drop all skewed data and NaN values that may hinder accurate data\n",
    "\n",
    "## 3) Manipulate Weather csv's:\n",
    "### - Calculate the average highest daily temperatures for each month within the given one year time period \n",
    "### - Record said data into an ordered (by month) array \n",
    "\n",
    "## 4) Clean and Manipulate Police-Related Fatalities csv:\n",
    "### - First calculate the deaths by police only within the given time period\n",
    "### - Now limit this set to the deaths occured within the Texas and Florida because we've obtained data on two major cities in those states: Houston and Jacksonville, respectively\n",
    "### - Now calculate the deaths by month and record in ordered (by month) array\n",
    "\n",
    "## 5) Visualizations:\n",
    "### - We will now plot a 3D scatter plot, showing the correlation between the average highest temperatures for each month and the recorded deaths by police for each month, FOR both cities.\n",
    "### - The axises are: X-axis: 12 month period, Y-axis: Average highest temps, Z-axis: Police fatalities for the month"
   ]
  },
  {
   "cell_type": "markdown",
   "metadata": {},
   "source": [
    "\n",
    "# 6) Modeling Predictions: \n",
    "\n",
    "### Once we have proven or disproven our thesis, we plan to focus strictly on the Police-Related Fatalities dataset for the modeling portion of our project. We have chosen to do this because for the first half of our project, we've scoped down our data too much to be of any use for an insightful model/prediction.\n",
    "\n",
    "## Manipulate Police-Related Fatalities csv to be used in KNN model:\n",
    "\n",
    "### - The columns being used ('Race', 'Mental_illness', 'Armed', 'State')\n",
    "### - Because the values belonging to the column 'Race' and 'Armed' aren't numerical/boolean, we must first add additional columns to the dataframe to represent their numerical/boolean versions \n",
    "### - Race: Asian, Black, Hispanic, Native, Other, White --> races: 1, 2, 3, 4, 5, 6\n",
    "### - Armed: NaN, not NaN (not NaN meaning person was armed w/ a weapon) --> armed: False, True \n",
    "\n",
    "## a) KNN Modeling to predict if the person was armed during the police encounter:\n",
    "### - First model: Using the 'races' and 'Mental_illness' columns as features and 'armed' column as our target, we will train our KNN model to predict of the person was armed. We will then determine the accuracy scores of our predictions\n",
    "\n",
    "## b) KNN Modeling to predict if the person had a mental illness:\n",
    "### - Second model: Using the 'races' and 'armed' columns as features and 'Mental_illness' column as our target, we will train our KNN model to predict if the person had an illness. We will then determine the accuracy scores of our predictions\n",
    "\n",
    "## c) KNN Modeling to predict the race of the person:\n",
    "### - Third model: Using the 'Mental_illness' and 'armed' columns as features and 'races' column as our target, we will train our KNN model to predict the race of person. We will then determine the accuracy scores of our predictions"
   ]
  },
  {
   "cell_type": "markdown",
   "metadata": {},
   "source": [
    "# Resources and Links:\n",
    "https://github.com/fivethirtyeight/data/blob/master/us-weather-history/KHOU.csv\n",
    "https://github.com/fivethirtyeight/data/blob/master/us-weather-history/KJAX.csv\n",
    "https://data.world/awram/us-police-involved-fatalities/workspace/file?filename=Police+Fatalities.csv\n",
    "https://mappingpoliceviolence.org/states"
   ]
  },
  {
   "cell_type": "code",
   "execution_count": 1,
   "metadata": {},
   "outputs": [],
   "source": [
    "from mpl_toolkits import mplot3d\n",
    "from sklearn.metrics import accuracy_score\n",
    "from sklearn.model_selection import train_test_split\n",
    "from sklearn.neighbors import KNeighborsClassifier\n",
    "\n",
    "import numpy as np\n",
    "import pandas as pd\n",
    "%matplotlib inline\n",
    "import matplotlib.pyplot as plt"
   ]
  },
  {
   "cell_type": "markdown",
   "metadata": {},
   "source": [
    "# 1. Inport Weather and Police-Related Fatalities Data"
   ]
  },
  {
   "cell_type": "code",
   "execution_count": null,
   "metadata": {},
   "outputs": [],
   "source": [
    "KJAX = pd.read_csv('KJAX.csv')\n",
    "KHOU = pd.read_csv('KHOU.csv')\n",
    "PO_FTL = pd.read_csv('Police Fatalities.csv', encoding = \"ISO-8859-1\")"
   ]
  },
  {
   "cell_type": "markdown",
   "metadata": {},
   "source": [
    "# 2a. Clean Houston Weather Data "
   ]
  },
  {
   "cell_type": "code",
   "execution_count": null,
   "metadata": {},
   "outputs": [],
   "source": [
    "KHOU.drop(columns=['average_min_temp','average_max_temp','record_min_temp','record_max_temp','record_min_temp_year','record_max_temp_year','actual_precipitation','average_precipitation','record_precipitation']).dropna().head()"
   ]
  },
  {
   "cell_type": "markdown",
   "metadata": {},
   "source": [
    "# 2b. Clean Jacksonville Weather Data "
   ]
  },
  {
   "cell_type": "code",
   "execution_count": null,
   "metadata": {},
   "outputs": [],
   "source": [
    "KJAX.drop(columns=['average_min_temp','average_max_temp','record_min_temp','record_max_temp','record_min_temp_year','record_max_temp_year','actual_precipitation','average_precipitation','record_precipitation']).dropna().head()"
   ]
  },
  {
   "cell_type": "markdown",
   "metadata": {},
   "source": [
    "# 3a. Manipulate Houston Weather Data"
   ]
  },
  {
   "cell_type": "code",
   "execution_count": 8,
   "metadata": {},
   "outputs": [
    {
     "name": "stdout",
     "output_type": "stream",
     "text": [
      "Average Value of Daily Highs Ordered (July 2014 - June 2015) in Hoston:  [93 93 89 84 67 65 59 63 72 80 84 90]\n"
     ]
    }
   ],
   "source": [
    "h_high_unordered = np.array([0,0,0,0,0,0,0,0,0,0,0,0])\n",
    "\n",
    "pos = 0\n",
    "\n",
    "for i in range(1,13):\n",
    "    sum = 0\n",
    "    for j in range(len(KHOU)): \n",
    "        date = \"2014-\" + str(i)\n",
    "        if(i < 7):\n",
    "            date = \"2015-\" + str(i)\n",
    "        if KHOU['date'][j].find(date) == 0:\n",
    "            h_high_unordered[pos] = h_high_unordered[pos] + KHOU['actual_max_temp'][j]\n",
    "            sum = sum + 1\n",
    "    h_high_unordered[pos] = h_high_unordered[pos]/sum\n",
    "    pos = pos + 1\n",
    "\n",
    "\n",
    "h_high = np.array([0,0,0,0,0,0,0,0,0,0,0,0])\n",
    "    \n",
    "for m in range(0,6):\n",
    "    n = m + 6\n",
    "    h_high[m] = h_high_unordered[n]\n",
    "    \n",
    "for z in range(6,12):\n",
    "    y = z - 6\n",
    "    h_high[z] = h_high_unordered[y]\n",
    "\n",
    "print(\"Average Value of Daily Highs Ordered (July 2014 - June 2015) in Hoston: \", h_high)"
   ]
  },
  {
   "cell_type": "markdown",
   "metadata": {},
   "source": [
    "# 3b. Manipulate Jacksonville Weather Data"
   ]
  },
  {
   "cell_type": "code",
   "execution_count": 9,
   "metadata": {},
   "outputs": [
    {
     "name": "stdout",
     "output_type": "stream",
     "text": [
      "Average Value of Daily Highs Ordered (July 2014 - June 2015) in Florida:  [90 91 85 81 68 69 63 62 76 81 85 91]\n"
     ]
    }
   ],
   "source": [
    "j_high_unordered = np.array([0,0,0,0,0,0,0,0,0,0,0,0])\n",
    "\n",
    "pos = 0\n",
    "\n",
    "for i in range(1,13):\n",
    "    sum = 0\n",
    "    for j in range(len(KJAX)): \n",
    "        date = \"2014-\" + str(i)\n",
    "        if(i < 7):\n",
    "            date = \"2015-\" + str(i)\n",
    "        if KJAX['date'][j].find(date) == 0:\n",
    "            j_high_unordered[pos] = j_high_unordered[pos] + KJAX['actual_max_temp'][j]\n",
    "            sum = sum + 1\n",
    "    j_high_unordered[pos] = j_high_unordered[pos]/sum\n",
    "    pos = pos + 1\n",
    "\n",
    "\n",
    "j_high = np.array([0,0,0,0,0,0,0,0,0,0,0,0])\n",
    "    \n",
    "for m in range(0,6):\n",
    "    n = m + 6\n",
    "    j_high[m] = j_high_unordered[n]\n",
    "    \n",
    "for z in range(6,12):\n",
    "    y = z - 6\n",
    "    j_high[z] = j_high_unordered[y]\n",
    "\n",
    "print(\"Average Value of Daily Highs Ordered (July 2014 - June 2015) in Florida: \", j_high)"
   ]
  },
  {
   "cell_type": "markdown",
   "metadata": {},
   "source": [
    "# 4a. Manipulate Police-Related Fatalities csv for Texas "
   ]
  },
  {
   "cell_type": "code",
   "execution_count": 10,
   "metadata": {},
   "outputs": [
    {
     "name": "stdout",
     "output_type": "stream",
     "text": [
      "Number of Police Fatalities(July 2014 - June 2015) in Texas:  [10 19  9 10  5  9 34 19  8 16 21 23]\n"
     ]
    }
   ],
   "source": [
    "h_fatalities_unordered = np.array([0,0,0,0,0,0,0,0,0,0,0,0])\n",
    "\n",
    "pos = 0\n",
    "\n",
    "for i in range(1,13):\n",
    "    for j in range(len(PO_FTL)): \n",
    "        if (i < 7):\n",
    "            if('2015' in PO_FTL['Date'][j]):\n",
    "                month = str(i) + \"/\"\n",
    "                if(PO_FTL['Date'][j].find(month) == 0):\n",
    "                    if(PO_FTL['State'][j] == \"TX\"):\n",
    "                        h_fatalities_unordered[pos] = h_fatalities_unordered[pos] + 1\n",
    "        else:\n",
    "            if('2014' in PO_FTL['Date'][j]):\n",
    "                month = str(i) + \"/\"\n",
    "                if(PO_FTL['Date'][j].find(month) == 0):\n",
    "                    if(PO_FTL['State'][j] == \"TX\"):\n",
    "                        h_fatalities_unordered[pos] = h_fatalities_unordered[pos] + 1            \n",
    "    pos = pos + 1\n",
    "\n",
    "h_fatalities = np.array([0,0,0,0,0,0,0,0,0,0,0,0])\n",
    "    \n",
    "for m in range(0,6):\n",
    "    n = m + 6\n",
    "    h_fatalities[m] = h_fatalities_unordered[n]\n",
    "    \n",
    "for z in range(6,12):\n",
    "    y = z - 6\n",
    "    h_fatalities[z] = h_fatalities_unordered[y]\n",
    "\n",
    "print(\"Number of Police Fatalities(July 2014 - June 2015) in Texas: \", h_fatalities)"
   ]
  },
  {
   "cell_type": "markdown",
   "metadata": {},
   "source": [
    "# 4b. Manipulate Police-Related Fatalities csv for Florida "
   ]
  },
  {
   "cell_type": "code",
   "execution_count": 1,
   "metadata": {},
   "outputs": [
    {
     "ename": "NameError",
     "evalue": "name 'np' is not defined",
     "output_type": "error",
     "traceback": [
      "\u001b[0;31m---------------------------------------------------------------------------\u001b[0m",
      "\u001b[0;31mNameError\u001b[0m                                 Traceback (most recent call last)",
      "\u001b[0;32m<ipython-input-1-d0438fdda99b>\u001b[0m in \u001b[0;36m<module>\u001b[0;34m\u001b[0m\n\u001b[0;32m----> 1\u001b[0;31m \u001b[0mj_fatalities_unordered\u001b[0m \u001b[0;34m=\u001b[0m \u001b[0mnp\u001b[0m\u001b[0;34m.\u001b[0m\u001b[0marray\u001b[0m\u001b[0;34m(\u001b[0m\u001b[0;34m[\u001b[0m\u001b[0;36m0\u001b[0m\u001b[0;34m,\u001b[0m\u001b[0;36m0\u001b[0m\u001b[0;34m,\u001b[0m\u001b[0;36m0\u001b[0m\u001b[0;34m,\u001b[0m\u001b[0;36m0\u001b[0m\u001b[0;34m,\u001b[0m\u001b[0;36m0\u001b[0m\u001b[0;34m,\u001b[0m\u001b[0;36m0\u001b[0m\u001b[0;34m,\u001b[0m\u001b[0;36m0\u001b[0m\u001b[0;34m,\u001b[0m\u001b[0;36m0\u001b[0m\u001b[0;34m,\u001b[0m\u001b[0;36m0\u001b[0m\u001b[0;34m,\u001b[0m\u001b[0;36m0\u001b[0m\u001b[0;34m,\u001b[0m\u001b[0;36m0\u001b[0m\u001b[0;34m,\u001b[0m\u001b[0;36m0\u001b[0m\u001b[0;34m]\u001b[0m\u001b[0;34m)\u001b[0m\u001b[0;34m\u001b[0m\u001b[0;34m\u001b[0m\u001b[0m\n\u001b[0m\u001b[1;32m      2\u001b[0m \u001b[0;34m\u001b[0m\u001b[0m\n\u001b[1;32m      3\u001b[0m \u001b[0mpos\u001b[0m \u001b[0;34m=\u001b[0m \u001b[0;36m0\u001b[0m\u001b[0;34m\u001b[0m\u001b[0;34m\u001b[0m\u001b[0m\n\u001b[1;32m      4\u001b[0m \u001b[0;34m\u001b[0m\u001b[0m\n\u001b[1;32m      5\u001b[0m \u001b[0;32mfor\u001b[0m \u001b[0mi\u001b[0m \u001b[0;32min\u001b[0m \u001b[0mrange\u001b[0m\u001b[0;34m(\u001b[0m\u001b[0;36m1\u001b[0m\u001b[0;34m,\u001b[0m\u001b[0;36m13\u001b[0m\u001b[0;34m)\u001b[0m\u001b[0;34m:\u001b[0m\u001b[0;34m\u001b[0m\u001b[0;34m\u001b[0m\u001b[0m\n",
      "\u001b[0;31mNameError\u001b[0m: name 'np' is not defined"
     ]
    }
   ],
   "source": [
    "j_fatalities_unordered = np.array([0,0,0,0,0,0,0,0,0,0,0,0])\n",
    "\n",
    "pos = 0\n",
    "\n",
    "for i in range(1,13):\n",
    "    for j in range(len(PO_FTL)): \n",
    "        if (i < 7):\n",
    "            if('2015' in PO_FTL['Date'][j]):\n",
    "                month = str(i) + \"/\"\n",
    "                if(PO_FTL['Date'][j].find(month) == 0):\n",
    "                    if(PO_FTL['State'][j] == \"FL\"):\n",
    "                        j_fatalities_unordered[pos] = j_fatalities_unordered[pos] + 1\n",
    "        else:\n",
    "            if('2014' in PO_FTL['Date'][j]):\n",
    "                month = str(i) + \"/\"\n",
    "                if(PO_FTL['Date'][j].find(month) == 0):\n",
    "                    if(PO_FTL['State'][j] == \"FL\"):\n",
    "                        j_fatalities_unordered[pos] = j_fatalities_unordered[pos] + 1            \n",
    "    pos = pos + 1\n",
    "\n",
    "j_fatalities = np.array([0,0,0,0,0,0,0,0,0,0,0,0])\n",
    "    \n",
    "for m in range(0,6):\n",
    "    n = m + 6\n",
    "    j_fatalities[m] = j_fatalities_unordered[n]\n",
    "    \n",
    "for z in range(6,12):\n",
    "    y = z - 6\n",
    "    j_fatalities[z] = j_fatalities_unordered[y]\n",
    "\n",
    "print(\"Number of Police Fatalities(July 2014 - June 2015) in Jacksonville: \", j_fatalities)"
   ]
  },
  {
   "cell_type": "markdown",
   "metadata": {},
   "source": [
    "# 5a. Houston's Weather vs Police-Related Fatalities (Visualization) "
   ]
  },
  {
   "cell_type": "code",
   "execution_count": 12,
   "metadata": {},
   "outputs": [
    {
     "data": {
      "image/png": "[encoded data removed]",
      "text/plain": [
       "<Figure size 432x288 with 1 Axes>"
      ]
     },
     "metadata": {
      "needs_background": "light"
     },
     "output_type": "display_data"
    }
   ],
   "source": [
    "fig = plt.figure()\n",
    "ax = plt.axes(projection='3d')\n",
    "\n",
    "h_months = [7,8,9,10,11,12,1,2,3,4,5,6]\n",
    "\n",
    "# Data for three-dimensional scattered points\n",
    "ax.scatter3D(h_months, h_high, h_fatalities, c=h_fatalities);"
   ]
  },
  {
   "cell_type": "markdown",
   "metadata": {},
   "source": [
    "# 5b. Jacksonville's Weather vs Police-Related Fatalities (Visualization) "
   ]
  },
  {
   "cell_type": "code",
   "execution_count": 13,
   "metadata": {},
   "outputs": [
    {
     "data": {
      "image/png": "[encoded data removed]",
      "text/plain": [
       "<Figure size 432x288 with 1 Axes>"
      ]
     },
     "metadata": {
      "needs_background": "light"
     },
     "output_type": "display_data"
    }
   ],
   "source": [
    "fig = plt.figure()\n",
    "ax = plt.axes(projection='3d')\n",
    "\n",
    "j_months = [7,8,9,10,11,12,1,2,3,4,5,6]\n",
    "\n",
    "# Data for three-dimensional scattered points\n",
    "ax.scatter3D(j_months, j_high, j_fatalities, c=j_fatalities);"
   ]
  },
  {
   "cell_type": "markdown",
   "metadata": {},
   "source": [
    "# Modeling Predictions using Three KNN models"
   ]
  },
  {
   "cell_type": "markdown",
   "metadata": {},
   "source": [
    "## Manipulating Police-Related Fatalities csv"
   ]
  },
  {
   "cell_type": "code",
   "execution_count": 53,
   "metadata": {},
   "outputs": [],
   "source": [
    "pf_data = PO_FTL.copy().dropna(subset=['Race', 'Mental_illness', 'State'])\n",
    "#pf_data.head(-10)"
   ]
  },
  {
   "cell_type": "code",
   "execution_count": 54,
   "metadata": {},
   "outputs": [
    {
     "data": {
      "text/html": [
       "<div>\n",
       "<style scoped>\n",
       "    .dataframe tbody tr th:only-of-type {\n",
       "        vertical-align: middle;\n",
       "    }\n",
       "\n",
       "    .dataframe tbody tr th {\n",
       "        vertical-align: top;\n",
       "    }\n",
       "\n",
       "    .dataframe thead th {\n",
       "        text-align: right;\n",
       "    }\n",
       "</style>\n",
       "<table border=\"1\" class=\"dataframe\">\n",
       "  <thead>\n",
       "    <tr style=\"text-align: right;\">\n",
       "      <th></th>\n",
       "      <th>UID</th>\n",
       "      <th>Name</th>\n",
       "      <th>Age</th>\n",
       "      <th>Gender</th>\n",
       "      <th>Race</th>\n",
       "      <th>Date</th>\n",
       "      <th>City</th>\n",
       "      <th>State</th>\n",
       "      <th>Manner_of_death</th>\n",
       "      <th>Armed</th>\n",
       "      <th>Mental_illness</th>\n",
       "      <th>Flee</th>\n",
       "      <th>races</th>\n",
       "      <th>armed</th>\n",
       "    </tr>\n",
       "  </thead>\n",
       "  <tbody>\n",
       "    <tr>\n",
       "      <th>0</th>\n",
       "      <td>133</td>\n",
       "      <td>Karen O. Chin</td>\n",
       "      <td>44.0</td>\n",
       "      <td>Female</td>\n",
       "      <td>Asian</td>\n",
       "      <td>5/4/2000</td>\n",
       "      <td>Alameda</td>\n",
       "      <td>CA</td>\n",
       "      <td>Shot</td>\n",
       "      <td>NaN</td>\n",
       "      <td>False</td>\n",
       "      <td>False</td>\n",
       "      <td>1</td>\n",
       "      <td>False</td>\n",
       "    </tr>\n",
       "    <tr>\n",
       "      <th>1</th>\n",
       "      <td>169</td>\n",
       "      <td>Chyraphone Komvongsa</td>\n",
       "      <td>26.0</td>\n",
       "      <td>Male</td>\n",
       "      <td>Asian</td>\n",
       "      <td>6/2/2000</td>\n",
       "      <td>Fresno</td>\n",
       "      <td>CA</td>\n",
       "      <td>Shot</td>\n",
       "      <td>NaN</td>\n",
       "      <td>False</td>\n",
       "      <td>False</td>\n",
       "      <td>1</td>\n",
       "      <td>False</td>\n",
       "    </tr>\n",
       "    <tr>\n",
       "      <th>2</th>\n",
       "      <td>257</td>\n",
       "      <td>Ming Chinh Ly</td>\n",
       "      <td>36.0</td>\n",
       "      <td>Male</td>\n",
       "      <td>Asian</td>\n",
       "      <td>8/13/2000</td>\n",
       "      <td>Rosemead</td>\n",
       "      <td>CA</td>\n",
       "      <td>Shot</td>\n",
       "      <td>Gun</td>\n",
       "      <td>False</td>\n",
       "      <td>False</td>\n",
       "      <td>1</td>\n",
       "      <td>True</td>\n",
       "    </tr>\n",
       "    <tr>\n",
       "      <th>3</th>\n",
       "      <td>483</td>\n",
       "      <td>Kinh Quoc Dao</td>\n",
       "      <td>29.0</td>\n",
       "      <td>Male</td>\n",
       "      <td>Asian</td>\n",
       "      <td>2/9/2001</td>\n",
       "      <td>Valley Glen</td>\n",
       "      <td>CA</td>\n",
       "      <td>Shot</td>\n",
       "      <td>Gun</td>\n",
       "      <td>False</td>\n",
       "      <td>False</td>\n",
       "      <td>1</td>\n",
       "      <td>True</td>\n",
       "    </tr>\n",
       "    <tr>\n",
       "      <th>4</th>\n",
       "      <td>655</td>\n",
       "      <td>Vanpaseuth Phaisouphanh</td>\n",
       "      <td>25.0</td>\n",
       "      <td>Male</td>\n",
       "      <td>Asian</td>\n",
       "      <td>6/10/2001</td>\n",
       "      <td>Riverside</td>\n",
       "      <td>CA</td>\n",
       "      <td>Shot</td>\n",
       "      <td>Knife</td>\n",
       "      <td>False</td>\n",
       "      <td>False</td>\n",
       "      <td>1</td>\n",
       "      <td>True</td>\n",
       "    </tr>\n",
       "  </tbody>\n",
       "</table>\n",
       "</div>"
      ],
      "text/plain": [
       "   UID                     Name   Age  Gender   Race       Date         City  \\\n",
       "0  133            Karen O. Chin  44.0  Female  Asian   5/4/2000      Alameda   \n",
       "1  169     Chyraphone Komvongsa  26.0    Male  Asian   6/2/2000       Fresno   \n",
       "2  257            Ming Chinh Ly  36.0    Male  Asian  8/13/2000     Rosemead   \n",
       "3  483            Kinh Quoc Dao  29.0    Male  Asian   2/9/2001  Valley Glen   \n",
       "4  655  Vanpaseuth Phaisouphanh  25.0    Male  Asian  6/10/2001    Riverside   \n",
       "\n",
       "  State Manner_of_death  Armed  Mental_illness   Flee  races  armed  \n",
       "0    CA            Shot    NaN           False  False      1  False  \n",
       "1    CA            Shot    NaN           False  False      1  False  \n",
       "2    CA            Shot    Gun           False  False      1   True  \n",
       "3    CA            Shot    Gun           False  False      1   True  \n",
       "4    CA            Shot  Knife           False  False      1   True  "
      ]
     },
     "execution_count": 54,
     "metadata": {},
     "output_type": "execute_result"
    }
   ],
   "source": [
    "import math\n",
    "races = []\n",
    "for i in range(len(pf_data['Race'])):\n",
    "    if pf_data['Race'][i] == \"Asian\":\n",
    "        races.append(1)\n",
    "    if pf_data['Race'][i] == \"Black\":\n",
    "        races.append(2)\n",
    "    if pf_data['Race'][i] == \"Hispanic\":\n",
    "        races.append(3)\n",
    "    if pf_data['Race'][i] == \"Native\":\n",
    "        races.append(4)\n",
    "    if pf_data['Race'][i] == \"White\":\n",
    "        races.append(5)\n",
    "    if pf_data['Race'][i] == \"Other\":\n",
    "        races.append(6)\n",
    "#print(races)\n",
    "\n",
    "armed = []\n",
    "for i in pf_data['Armed']:\n",
    "    if type(i) is float:\n",
    "        armed.append(False)\n",
    "    else:\n",
    "        armed.append(True)\n",
    "#print(armed)\n",
    "\n",
    "pf_data['races'] = races\n",
    "pf_data['armed'] = armed\n",
    "pf_data.head()"
   ]
  },
  {
   "cell_type": "markdown",
   "metadata": {},
   "source": [
    "## 6a. KNN Modeling to predict if the person was armed during the police encounter:"
   ]
  },
  {
   "cell_type": "code",
   "execution_count": 61,
   "metadata": {},
   "outputs": [
    {
     "data": {
      "text/html": [
       "<div>\n",
       "<style scoped>\n",
       "    .dataframe tbody tr th:only-of-type {\n",
       "        vertical-align: middle;\n",
       "    }\n",
       "\n",
       "    .dataframe tbody tr th {\n",
       "        vertical-align: top;\n",
       "    }\n",
       "\n",
       "    .dataframe thead th {\n",
       "        text-align: right;\n",
       "    }\n",
       "</style>\n",
       "<table border=\"1\" class=\"dataframe\">\n",
       "  <thead>\n",
       "    <tr style=\"text-align: right;\">\n",
       "      <th></th>\n",
       "      <th>Actual Armed status</th>\n",
       "      <th>PREDICTED Armed status</th>\n",
       "    </tr>\n",
       "  </thead>\n",
       "  <tbody>\n",
       "    <tr>\n",
       "      <th>0</th>\n",
       "      <td>False</td>\n",
       "      <td>True</td>\n",
       "    </tr>\n",
       "    <tr>\n",
       "      <th>1</th>\n",
       "      <td>True</td>\n",
       "      <td>True</td>\n",
       "    </tr>\n",
       "    <tr>\n",
       "      <th>2</th>\n",
       "      <td>False</td>\n",
       "      <td>True</td>\n",
       "    </tr>\n",
       "    <tr>\n",
       "      <th>3</th>\n",
       "      <td>True</td>\n",
       "      <td>True</td>\n",
       "    </tr>\n",
       "    <tr>\n",
       "      <th>4</th>\n",
       "      <td>False</td>\n",
       "      <td>True</td>\n",
       "    </tr>\n",
       "    <tr>\n",
       "      <th>5</th>\n",
       "      <td>True</td>\n",
       "      <td>True</td>\n",
       "    </tr>\n",
       "    <tr>\n",
       "      <th>6</th>\n",
       "      <td>True</td>\n",
       "      <td>True</td>\n",
       "    </tr>\n",
       "    <tr>\n",
       "      <th>7</th>\n",
       "      <td>True</td>\n",
       "      <td>True</td>\n",
       "    </tr>\n",
       "    <tr>\n",
       "      <th>8</th>\n",
       "      <td>True</td>\n",
       "      <td>True</td>\n",
       "    </tr>\n",
       "    <tr>\n",
       "      <th>9</th>\n",
       "      <td>True</td>\n",
       "      <td>True</td>\n",
       "    </tr>\n",
       "  </tbody>\n",
       "</table>\n",
       "</div>"
      ],
      "text/plain": [
       "   Actual Armed status  PREDICTED Armed status\n",
       "0                False                    True\n",
       "1                 True                    True\n",
       "2                False                    True\n",
       "3                 True                    True\n",
       "4                False                    True\n",
       "5                 True                    True\n",
       "6                 True                    True\n",
       "7                 True                    True\n",
       "8                 True                    True\n",
       "9                 True                    True"
      ]
     },
     "execution_count": 61,
     "metadata": {},
     "output_type": "execute_result"
    }
   ],
   "source": [
    "import pandas as pd  \n",
    "import numpy as np  \n",
    "import matplotlib.pyplot as plt  \n",
    "import seaborn as seabornInstance \n",
    "from sklearn.model_selection import train_test_split \n",
    "from sklearn.linear_model import LinearRegression\n",
    "from sklearn.neighbors import KNeighborsClassifier\n",
    "from sklearn import metrics\n",
    "%matplotlib inline\n",
    "\n",
    "inputs = pf_data[['races', 'Mental_illness']]\n",
    "outputs = pf_data['armed']\n",
    "model = KNeighborsClassifier()\n",
    "\n",
    "known_input, future_input, known_output, future_output = train_test_split(inputs, outputs, test_size=0.25, random_state=42)\n",
    "\n",
    "model.fit(known_input, known_output)\n",
    "\n",
    "predictions = model.predict(future_input)\n",
    "\n",
    "# compare Actual Armed status and the Predicted Armed status\n",
    "pd.DataFrame({\"Actual Armed status\":future_output, \"PREDICTED Armed status\":predictions}).reset_index(drop=True).head(10)"
   ]
  },
  {
   "cell_type": "markdown",
   "metadata": {},
   "source": [
    "## Score for First KNN model"
   ]
  },
  {
   "cell_type": "code",
   "execution_count": 56,
   "metadata": {},
   "outputs": [
    {
     "name": "stdout",
     "output_type": "stream",
     "text": [
      "sklearn's accuracy score for is Armed: 0.5637898686679175\n"
     ]
    }
   ],
   "source": [
    "print(\"sklearn's accuracy score for is Armed prediction:\", metrics.accuracy_score(future_output, predictions))"
   ]
  },
  {
   "cell_type": "markdown",
   "metadata": {},
   "source": [
    "## 6b. KNN Modeling to predict if the person had a mental illness:"
   ]
  },
  {
   "cell_type": "code",
   "execution_count": 62,
   "metadata": {},
   "outputs": [
    {
     "data": {
      "text/html": [
       "<div>\n",
       "<style scoped>\n",
       "    .dataframe tbody tr th:only-of-type {\n",
       "        vertical-align: middle;\n",
       "    }\n",
       "\n",
       "    .dataframe tbody tr th {\n",
       "        vertical-align: top;\n",
       "    }\n",
       "\n",
       "    .dataframe thead th {\n",
       "        text-align: right;\n",
       "    }\n",
       "</style>\n",
       "<table border=\"1\" class=\"dataframe\">\n",
       "  <thead>\n",
       "    <tr style=\"text-align: right;\">\n",
       "      <th></th>\n",
       "      <th>Actual illness status</th>\n",
       "      <th>PREDICTED illness status</th>\n",
       "    </tr>\n",
       "  </thead>\n",
       "  <tbody>\n",
       "    <tr>\n",
       "      <th>0</th>\n",
       "      <td>True</td>\n",
       "      <td>False</td>\n",
       "    </tr>\n",
       "    <tr>\n",
       "      <th>1</th>\n",
       "      <td>False</td>\n",
       "      <td>False</td>\n",
       "    </tr>\n",
       "    <tr>\n",
       "      <th>2</th>\n",
       "      <td>False</td>\n",
       "      <td>False</td>\n",
       "    </tr>\n",
       "    <tr>\n",
       "      <th>3</th>\n",
       "      <td>False</td>\n",
       "      <td>False</td>\n",
       "    </tr>\n",
       "    <tr>\n",
       "      <th>4</th>\n",
       "      <td>False</td>\n",
       "      <td>False</td>\n",
       "    </tr>\n",
       "    <tr>\n",
       "      <th>5</th>\n",
       "      <td>False</td>\n",
       "      <td>False</td>\n",
       "    </tr>\n",
       "    <tr>\n",
       "      <th>6</th>\n",
       "      <td>False</td>\n",
       "      <td>False</td>\n",
       "    </tr>\n",
       "    <tr>\n",
       "      <th>7</th>\n",
       "      <td>False</td>\n",
       "      <td>False</td>\n",
       "    </tr>\n",
       "    <tr>\n",
       "      <th>8</th>\n",
       "      <td>False</td>\n",
       "      <td>False</td>\n",
       "    </tr>\n",
       "    <tr>\n",
       "      <th>9</th>\n",
       "      <td>True</td>\n",
       "      <td>False</td>\n",
       "    </tr>\n",
       "  </tbody>\n",
       "</table>\n",
       "</div>"
      ],
      "text/plain": [
       "   Actual illness status  PREDICTED illness status\n",
       "0                   True                     False\n",
       "1                  False                     False\n",
       "2                  False                     False\n",
       "3                  False                     False\n",
       "4                  False                     False\n",
       "5                  False                     False\n",
       "6                  False                     False\n",
       "7                  False                     False\n",
       "8                  False                     False\n",
       "9                   True                     False"
      ]
     },
     "execution_count": 62,
     "metadata": {},
     "output_type": "execute_result"
    }
   ],
   "source": [
    "inputs1 = pf_data[['races', 'armed']]\n",
    "outputs1 = pf_data['Mental_illness']\n",
    "model1 = KNeighborsClassifier()\n",
    "\n",
    "known_input1, future_input1, known_output1, future_output1 = train_test_split(inputs1, outputs1, test_size=0.3, random_state=42)\n",
    "\n",
    "model1.fit(known_input1, known_output1)\n",
    "\n",
    "predictions1 = model1.predict(future_input1)\n",
    "\n",
    "# compare Actual illness status and the PREDICTED illness status\n",
    "pd.DataFrame({\"Actual illness status\":future_output1, \"PREDICTED illness status\":predictions1}).reset_index(drop=True).head(10)"
   ]
  },
  {
   "cell_type": "markdown",
   "metadata": {},
   "source": [
    "## Score for Second KNN model"
   ]
  },
  {
   "cell_type": "code",
   "execution_count": 63,
   "metadata": {},
   "outputs": [
    {
     "name": "stdout",
     "output_type": "stream",
     "text": [
      "sklearn's accuracy score for mental illness prediction: 0.7912431587177482\n"
     ]
    }
   ],
   "source": [
    "print(\"sklearn's accuracy score for mental illness prediction:\", metrics.accuracy_score(future_output1, predictions1))"
   ]
  },
  {
   "cell_type": "markdown",
   "metadata": {},
   "source": [
    "## 6c. KNN Modeling to predict the race of the person:"
   ]
  },
  {
   "cell_type": "code",
   "execution_count": 64,
   "metadata": {},
   "outputs": [
    {
     "data": {
      "text/html": [
       "<div>\n",
       "<style scoped>\n",
       "    .dataframe tbody tr th:only-of-type {\n",
       "        vertical-align: middle;\n",
       "    }\n",
       "\n",
       "    .dataframe tbody tr th {\n",
       "        vertical-align: top;\n",
       "    }\n",
       "\n",
       "    .dataframe thead th {\n",
       "        text-align: right;\n",
       "    }\n",
       "</style>\n",
       "<table border=\"1\" class=\"dataframe\">\n",
       "  <thead>\n",
       "    <tr style=\"text-align: right;\">\n",
       "      <th></th>\n",
       "      <th>Actual Race</th>\n",
       "      <th>Predicted Race</th>\n",
       "    </tr>\n",
       "  </thead>\n",
       "  <tbody>\n",
       "    <tr>\n",
       "      <th>0</th>\n",
       "      <td>5</td>\n",
       "      <td>5</td>\n",
       "    </tr>\n",
       "    <tr>\n",
       "      <th>1</th>\n",
       "      <td>3</td>\n",
       "      <td>5</td>\n",
       "    </tr>\n",
       "    <tr>\n",
       "      <th>2</th>\n",
       "      <td>5</td>\n",
       "      <td>2</td>\n",
       "    </tr>\n",
       "    <tr>\n",
       "      <th>3</th>\n",
       "      <td>2</td>\n",
       "      <td>5</td>\n",
       "    </tr>\n",
       "    <tr>\n",
       "      <th>4</th>\n",
       "      <td>2</td>\n",
       "      <td>2</td>\n",
       "    </tr>\n",
       "    <tr>\n",
       "      <th>5</th>\n",
       "      <td>3</td>\n",
       "      <td>5</td>\n",
       "    </tr>\n",
       "    <tr>\n",
       "      <th>6</th>\n",
       "      <td>2</td>\n",
       "      <td>5</td>\n",
       "    </tr>\n",
       "    <tr>\n",
       "      <th>7</th>\n",
       "      <td>2</td>\n",
       "      <td>5</td>\n",
       "    </tr>\n",
       "    <tr>\n",
       "      <th>8</th>\n",
       "      <td>5</td>\n",
       "      <td>5</td>\n",
       "    </tr>\n",
       "    <tr>\n",
       "      <th>9</th>\n",
       "      <td>5</td>\n",
       "      <td>5</td>\n",
       "    </tr>\n",
       "  </tbody>\n",
       "</table>\n",
       "</div>"
      ],
      "text/plain": [
       "   Actual Race  Predicted Race\n",
       "0            5               5\n",
       "1            3               5\n",
       "2            5               2\n",
       "3            2               5\n",
       "4            2               2\n",
       "5            3               5\n",
       "6            2               5\n",
       "7            2               5\n",
       "8            5               5\n",
       "9            5               5"
      ]
     },
     "execution_count": 64,
     "metadata": {},
     "output_type": "execute_result"
    }
   ],
   "source": [
    "inputs2 = pf_data[['Mental_illness', 'armed']]\n",
    "outputs2 = pf_data['races']\n",
    "model2 = KNeighborsClassifier()\n",
    "\n",
    "known_input2, future_input2, known_output2, future_output2 = train_test_split(inputs2, outputs2, test_size=0.18, random_state=42)\n",
    "\n",
    "model2.fit(known_input2, known_output2) # tell it known stuff\n",
    "\n",
    "predictions2 = model2.predict(future_input2) # given future input, predict future output!\n",
    "\n",
    "# compare Actual Race and the Predicted Race\n",
    "pd.DataFrame({\"Actual Race\":future_output2, \"Predicted Race\":predictions2}).reset_index(drop=True).head(10)"
   ]
  },
  {
   "cell_type": "markdown",
   "metadata": {},
   "source": [
    "## Score for Third KNN model"
   ]
  },
  {
   "cell_type": "code",
   "execution_count": 49,
   "metadata": {},
   "outputs": [
    {
     "name": "stdout",
     "output_type": "stream",
     "text": [
      "sklearn's accuracy score for mental illness: 0.43713355048859937\n"
     ]
    }
   ],
   "source": [
    "print(\"sklearn's accuracy score for Race prediction:\", metrics.accuracy_score(future_output2, predictions2))"
   ]
  },
  {
   "cell_type": "markdown",
   "metadata": {},
   "source": [
    "# Final Observations:\n",
    "## After perfoming our predictive analysis using KNN modeling, we've come up with an analysis for our lowest score\n",
    "\n",
    "## Score of Third model:\n",
    "### We've noticed that our accuracy score for our third model was the lowest. This model was created to predict the race of the person killed by the police on the basis of whether they were armed durin the encounter and had a mental illness. The correleation between the features and the target are weak, as proven by the score. To further explain why, we've done some online research. It was later determined that roughly 78% of police encounters that had resulted in a death, the suspect was armed in some way. Given this high percentage, our model was not trained with high efficiency because of this specifc feature, 'armed'. It was clear that our model had trouble differentiating between the races and this could be the main reason behind the low score. "
   ]
  },
  {
   "cell_type": "markdown",
   "metadata": {},
   "source": [
    "# Final Conclusion:\n",
    "## Our initial hypothesis was proven to be correct and using the 3D scatter plot under the visualization section, it is noticeable that the city with the average highest temperatures for each month, Jacksonville, Fl, also happens to have a higher number of fatalities by police. For this data, we can conclude that there is a strong correlation between the high temperatures in a certain region and the number of police-related fatalities in that region. "
   ]
  },
  {
   "cell_type": "code",
   "execution_count": null,
   "metadata": {},
   "outputs": [],
   "source": []
  }
 ],
 "metadata": {
  "kernelspec": {
   "display_name": "Python 3",
   "language": "python",
   "name": "python3"
  },
  "language_info": {
   "codemirror_mode": {
    "name": "ipython",
    "version": 3
   },
   "file_extension": ".py",
   "mimetype": "text/x-python",
   "name": "python",
   "nbconvert_exporter": "python",
   "pygments_lexer": "ipython3",
   "version": "3.7.3"
  }
 },
 "nbformat": 4,
 "nbformat_minor": 2
}
